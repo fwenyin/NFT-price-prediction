{
  "nbformat": 4,
  "nbformat_minor": 0,
  "metadata": {
    "colab": {
      "name": "BACT.ipynb",
      "provenance": [],
      "collapsed_sections": []
    },
    "kernelspec": {
      "display_name": "Python 3",
      "name": "python3"
    },
    "language_info": {
      "name": "python"
    }
  },
  "cells": [
    {
      "cell_type": "code",
      "metadata": {
        "id": "Shaj8jTVNvZE"
      },
      "source": [
        "from bs4 import BeautifulSoup\n",
        "import requests\n",
        "from selenium import webdriver\n",
        "import cloudscraper\n",
        "import pandas as pd\n",
        "import numpy as np\n",
        "import matplotlib.pyplot as plt\n",
        "import statsmodels.api as sm\n",
        "import seaborn as sns \n",
        "\n",
        "from sklearn.svm import SVR\n",
        "from sklearn.preprocessing import StandardScaler\n",
        "from sklearn.model_selection import train_test_split\n",
        "from sklearn.metrics import mean_squared_error, mean_absolute_error\n",
        "from sklearn.linear_model import LinearRegression\n",
        "from sklearn.linear_model import LogisticRegression\n",
        "from sklearn import preprocessing\n",
        "from sklearn.metrics import confusion_matrix\n",
        "from sklearn import metrics\n",
        "from sklearn.metrics import classification_report\n",
        "from sklearn.metrics import roc_auc_score\n",
        "from sklearn.metrics import roc_curve\n",
        "\n",
        "from google.colab.patches import cv2_imshow\n",
        "from skimage import io\n",
        "import cv2\n",
        "from PIL import Image\n",
        "import os\n",
        "import csv\n",
        "\n",
        "from tensorflow.keras.optimizers import Adam\n",
        "from tensorflow.keras.models import Model, Sequential\n",
        "from tensorflow.keras.layers import Input, Dense, Conv2D, Flatten, Activation, BatchNormalization, Dropout, MaxPooling2D"
      ],
      "execution_count": null,
      "outputs": []
    },
    {
      "cell_type": "code",
      "metadata": {
        "id": "sl-RiZO4cBzn"
      },
      "source": [
        "## API call to get required data \n",
        "url = \"https://api.opensea.io/api/v1/assets\"\n",
        "punks = []\n",
        "\n",
        "for i in range(0, 10001):\n",
        "    querystring = {\"token_ids\": str(i),\n",
        "                    \"asset_contract_address\":\"0xb47e3cd837ddf8e4c57f05d70ab865de6e193bbb\",\n",
        "                   \"order_direction\":\"desc\",\n",
        "                   \"offset\":\"0\",\n",
        "                   \"limit\":\"20\"}\n",
        "    response = requests.request(\"GET\", url, params=querystring)\n",
        "    #print(i, end=\" \")\n",
        "    if response.status_code != 200:\n",
        "        print('error')\n",
        "        continue\n",
        "    else: \n",
        "        punks.append(response.json()['assets'])\n",
        "\n",
        "punks_df2 = pd.DataFrame(list(map(lambda x: x[0], punks)))\n",
        "punks_df2.to_csv('punks.csv')"
      ],
      "execution_count": null,
      "outputs": []
    },
    {
      "source": [
        "## Data cleaning"
      ],
      "cell_type": "markdown",
      "metadata": {}
    },
    {
      "cell_type": "code",
      "metadata": {
        "id": "EJx_v0moNARD"
      },
      "source": [
        "punks_df  = pd.read_csv(\"punks.csv\")\n",
        "punks_df_clean = punks_df.drop([\"background_color\", \"image_preview_url\", \"image_thumbnail_url\", \"image_original_url\",\n",
        " \"animation_url\", \"animation_original_url\", \"description\", \"permalink\", \"decimals\", \"token_metadata\", \"owner\",\n",
        " \"sell_orders\", \"creator\", \"top_bid\", \"listing_date\", \"is_presale\", \"transfer_fee\", \"transfer_fee_payment_token\", \"external_link\", \"collection\"], 1)\n",
        "punks_df_clean = punks_df_clean.drop(punks_df.columns[0], 1)\n",
        "punks_df_clean['asset_contract'] = punks_df_clean['asset_contract'].apply(lambda x: ast.literal_eval(x)) \n",
        "punks_df_clean['created_date'] = punks_df_clean['asset_contract'].apply(lambda x: x['created_date'])\n",
        "punks_df_clean = punks_df_clean.drop(\"asset_contract\", 1)\n",
        "no_prices_index = punks_df_clean[punks_df_clean['last_sale'].isnull()].index\n",
        "print(\"There are \" + str(len(no_prices_index)) + \" cryptopunks which have not been sold before, drop these rows\")\n",
        "print(\"\")\n",
        "punks_df_clean = punks_df_clean.drop(no_prices_index)\n",
        "punks_df_clean['last_sale'] = punks_df_clean['last_sale'].apply(lambda x: ast.literal_eval(x))\n",
        "punks_df_clean['payment_token'] = punks_df_clean['last_sale'].apply(lambda x: x['payment_token']['symbol'])\n",
        "print(\"transactions are carried out in the following currencies: \" + str(punks_df_clean['payment_token'].unique()))\n",
        "print(\"proceed to get ETH prices and USD prices of each cryptopunk\")\n",
        "print(\"\")\n",
        "punks_df_clean = punks_df_clean.drop(\"payment_token\", 1)\n",
        "punks_df_clean[\"eth_price\"] = punks_df_clean['last_sale'].apply(lambda x: float(x['total_price']))/(10.**18) #prices in wei\n",
        "punks_df_clean[\"usd_price\"] = punks_df_clean['last_sale'].apply(lambda x: float(x['payment_token']['usd_price'])) * punks_df_clean[\"eth_price\"]\n",
        "free_punks = punks_df_clean[punks_df_clean['eth_price'] == 0].index\n",
        "print(\"upon further inspection there are \" + str(len(free_punks)) + \" cryptopunks with no prices. We believe that the eth prices may have been so small that the digits were cut off. we will remove those\")\n",
        "print(\"this leaves us with \" + str(len(punks_df_clean)) + \" cryptopunks in this dataset\")\n",
        "punks_df_clean = punks_df_clean.drop(free_punks)\n",
        "punks_df_clean['event_timestamp'] = punks_df_clean['last_sale'].apply(lambda x: x['event_timestamp'])\n",
        "punks_df_clean = punks_df_clean.drop(\"last_sale\", 1)\n",
        "punks_df_clean['traits'] = punks_df_clean['traits'].apply(lambda x: ast.literal_eval(x))\n",
        "\n",
        "def getTraits(lst):\n",
        "    values = []\n",
        "    for d in lst:\n",
        "        if d['value'] not in values:\n",
        "            values.append(d['value'])\n",
        "    return values\n",
        "\n",
        "punks_df_clean['traits'] = punks_df_clean['traits'].apply(lambda x: getTraits(x))\n",
        "traits_list = []\n",
        "for index, value in punks_df_clean['traits'].items():\n",
        "    for trait in value:\n",
        "        if trait not in traits_list:\n",
        "            traits_list.append(trait)\n",
        "d = {}\n",
        "for trait in traits_list:\n",
        "    d[trait] = []\n",
        "    for index, value in punks_df_clean['traits'].items():\n",
        "        if trait in value:\n",
        "            d[trait].append(1)\n",
        "        else:\n",
        "            d[trait].append(0)\n",
        "traits_df = pd.DataFrame(d)\n",
        "traits_df = traits_df.reset_index()\n",
        "punks_df_clean = punks_df_clean.reset_index()\n",
        "punks_df_clean = pd.concat([punks_df_clean, traits_df], 1)\n",
        "punks_df_clean.drop(['created_date', 'traits', 'Male', 'Mohawk'], 1, inplace = True)\n",
        "punks_df_clean.drop([punks_df_clean.columns[9]], 1, inplace = True)\n",
        "punks_df_clean.to_csv('punks_cleaned.csv')"
      ],
      "execution_count": null,
      "outputs": []
    },
    {
      "source": [
        "## SVM"
      ],
      "cell_type": "markdown",
      "metadata": {}
    },
    {
      "cell_type": "code",
      "metadata": {
        "colab": {
          "base_uri": "https://localhost:8080/",
          "height": 400
        },
        "id": "wEhgt1MqQF1T",
        "outputId": "74a4e547-feba-4f50-e300-12de541f1b1c"
      },
      "source": [
        "punks_df1 = pd.read_csv('punks_cleaned2.csv')\n",
        "punks_df2 = punks_df1[punks_df1['num_sales'] == 1]\n",
        "\n",
        "x = np.asarray(punks_df2['Days Apart'])\n",
        "y = np.asarray(punks_df2['eth_price'])\n",
        "y = y.reshape(-1,1)\n",
        "x = x.reshape(-1,1)\n",
        "\n",
        "sc_x = StandardScaler()\n",
        "x = sc_x.fit_transform(x)\n",
        "\n",
        "x_train, x_test, y_train, y_test = train_test_split(x, y)\n",
        "\n",
        "regressor = SVR(kernel='rbf')\n",
        "regressor.fit(x_train,y_train)\n",
        "\n",
        "plt.scatter(x_train, y_train, color = 'green')\n",
        "plt.plot(x_train, regressor.predict(x_train), color = 'blue')\n",
        "plt.title('SVM with RBF kernel')\n",
        "plt.xlabel('Days Apart')\n",
        "plt.ylabel('eth_price')\n",
        "plt.show()\n",
        "\n",
        "print(mean_absolute_error(y_test, regressor.predict(x_test)))\n",
        "print(mean_squared_error(y_test, regressor.predict(x_test)))\n",
        "print(mean_squared_error(y_test, regressor.predict(x_test), squared= False))"
      ],
      "execution_count": null,
      "outputs": [
        {
          "output_type": "stream",
          "name": "stderr",
          "text": [
            "/usr/local/lib/python3.7/dist-packages/sklearn/utils/validation.py:760: DataConversionWarning: A column-vector y was passed when a 1d array was expected. Please change the shape of y to (n_samples, ), for example using ravel().\n",
            "  y = column_or_1d(y, warn=True)\n"
          ]
        },
        {
          "output_type": "display_data",
          "data": {
            "image/png": "[encoded data removed]",
            "text/plain": [
              "<Figure size 432x288 with 1 Axes>"
            ]
          },
          "metadata": {
            "needs_background": "light"
          }
        },
        {
          "output_type": "stream",
          "name": "stdout",
          "text": [
            "14.372341054736983\n",
            "1522.9041189106335\n",
            "39.02440414549124\n"
          ]
        }
      ]
    },
    {
      "cell_type": "markdown",
      "metadata": {
        "id": "zjE7yS0TtW58"
      },
      "source": []
    },
    {
      "cell_type": "markdown",
      "metadata": {
        "id": "meSTLbAFhQ4b"
      },
      "source": [
        "## self train CNN"
      ]
    },
    {
      "cell_type": "code",
      "metadata": {
        "colab": {
          "base_uri": "https://localhost:8080/",
          "height": 98
        },
        "id": "nwTvHsdaNEA5",
        "outputId": "c986cc3b-1954-4019-f35f-9a118fd499ab"
      },
      "source": [
        "# Read image from web image\n",
        "image = io.imread('https://lh3.googleusercontent.com/7bRocEaoBrWYBX3vThkHj4kAV3b3mKG-Kem85xeT-D8oHpvQ19kcoiBd9mIFeNU0GrwZGvj6Oc5NAEGBSsGlrww')\n",
        "#print(image.shape)\n",
        "image = cv2.resize(image, (64, 64))\n",
        "cv2_imshow(image)\n",
        "cv2.waitKey()"
      ],
      "execution_count": null,
      "outputs": [
        {
          "data": {
            "image/png": "[encoded data removed]",
            "text/plain": [
              "<PIL.Image.Image image mode=RGB size=64x64 at 0x7F0A676D4B90>"
            ]
          },
          "metadata": {},
          "output_type": "display_data"
        },
        {
          "data": {
            "text/plain": [
              "-1"
            ]
          },
          "execution_count": 65,
          "metadata": {},
          "output_type": "execute_result"
        }
      ]
    },
    {
      "cell_type": "code",
      "metadata": {
        "id": "9JQET8nrt5Pp",
        "colab": {
          "base_uri": "https://localhost:8080/"
        },
        "outputId": "459e8e69-8e93-41c7-b41b-bfdb55eb4a2b"
      },
      "source": [
        "df = pd.read_csv('/content/sample_data/punks_cleaned.csv')\n",
        "images = [];\n",
        "result = []\n",
        "\n",
        "for ind in df.index:\n",
        "    try:\n",
        "        image = io.imread(df['image_url'][ind])\n",
        "        image = cv2.resize(image, (128, 128))\n",
        "        images.append(image)\n",
        "        result.append([image, df['usd_price'][ind]])\n",
        "    except Exception as e:\n",
        "        print(e)\n",
        "        continue"
      ],
      "execution_count": null,
      "outputs": [
        {
          "output_type": "stream",
          "name": "stdout",
          "text": [
            "HTTP Error 500: Internal Server Error\n"
          ]
        }
      ]
    },
    {
      "cell_type": "code",
      "metadata": {
        "id": "wqmdwBwkhyCw"
      },
      "source": [
        "headers = ['image', 'price']\n",
        "df2 = pd.DataFrame(result, columns = headers)\n",
        "df2[\"eth_price\"] = df[\"eth_price\"]\n",
        "\n",
        "images = np.array(images)\n",
        "images = images / 255.0"
      ],
      "execution_count": null,
      "outputs": []
    },
    {
      "cell_type": "code",
      "metadata": {
        "id": "iedqf6jlffMk"
      },
      "source": [
        "def create_cnn(width, height, depth, filters=(16, 32, 64), regress=False):\n",
        "    # initialize the input shape and channel dimension, assuming\n",
        "    # TensorFlow/channels-last ordering\n",
        "    inputShape = (height, width, depth)\n",
        "    chanDim = -1\n",
        "    # define the model input\n",
        "    inputs = Input(shape=inputShape)\n",
        "    # loop over the number of filters\n",
        "    for (i, f) in enumerate(filters):\n",
        "        # if this is the first CONV layer then set the input appropriately\n",
        "        if i == 0:\n",
        "            x = inputs\n",
        "        # CONV => RELU => BN => POOL\n",
        "        x = Conv2D(f, (3, 3), padding=\"same\")(x)\n",
        "        x = Activation(\"relu\")(x)\n",
        "        x = BatchNormalization(axis=chanDim)(x)\n",
        "        x = MaxPooling2D(pool_size=(2, 2))(x)\n",
        "    # flatten the volume, then FC => RELU => BN => DROPOUT\n",
        "    x = Flatten()(x)\n",
        "    x = Dense(16)(x)\n",
        "    x = Activation(\"relu\")(x)\n",
        "    x = BatchNormalization(axis=chanDim)(x)\n",
        "    x = Dropout(0.6)(x)\n",
        "    # apply another FC layer, this one to match the number of nodes\n",
        "    # coming out of the MLP\n",
        "    x = Dense(4)(x)\n",
        "    x = Activation(\"relu\")(x)\n",
        "    # check to see if the regression node should be added\n",
        "    if regress:\n",
        "        x = Dense(1, activation=\"linear\")(x)\n",
        "    # construct the CNN\n",
        "    model = Model(inputs, x)\n",
        "    # return the CNN\n",
        "    return model"
      ],
      "execution_count": null,
      "outputs": []
    },
    {
      "cell_type": "code",
      "metadata": {
        "colab": {
          "base_uri": "https://localhost:8080/"
        },
        "id": "Nctzjz4I8WuL",
        "outputId": "0ed22f87-35c2-4ad4-ed6a-df752fe46152"
      },
      "source": [
        "split = train_test_split(df2, images, test_size=0.25, random_state=42)\n",
        "(trainAttrX, testAttrX, trainImagesX, testImagesX) = split\n",
        "model = create_cnn(128, 128, 3, regress=True)\n",
        "opt = Adam(lr=1e-3, decay=1e-3 / 200)\n",
        "model.compile(loss=\"mean_squared_error\", optimizer=opt, metrics=[\"mean_squared_error\"])\n",
        "\n",
        "history = model.fit(x=trainImagesX, y=trainAttrX[\"eth_price\"], \n",
        "    validation_data=(testImagesX, testAttrX[\"eth_price\"]),\n",
        "    epochs=150, batch_size=32) \n",
        "\n",
        "preds = model.predict(testImagesX)"
      ],
      "execution_count": null,
      "outputs": [
        {
          "output_type": "stream",
          "name": "stderr",
          "text": [
            "/usr/local/lib/python3.7/dist-packages/keras/optimizer_v2/optimizer_v2.py:356: UserWarning: The `lr` argument is deprecated, use `learning_rate` instead.\n",
            "  \"The `lr` argument is deprecated, use `learning_rate` instead.\")\n"
          ]
        },
        {
          "output_type": "stream",
          "name": "stdout",
          "text": [
            "Epoch 1/150\n",
            "137/137 [==============================] - 96s 694ms/step - loss: 12675.9424 - mean_squared_error: 12675.9424 - val_loss: 17734.5039 - val_mean_squared_error: 17734.5039\n",
            "Epoch 2/150\n",
            "137/137 [==============================] - 95s 695ms/step - loss: 12631.1484 - mean_squared_error: 12631.1484 - val_loss: 17723.0234 - val_mean_squared_error: 17723.0234\n",
            "Epoch 3/150\n",
            "137/137 [==============================] - 95s 697ms/step - loss: 12614.5840 - mean_squared_error: 12614.5840 - val_loss: 17711.7012 - val_mean_squared_error: 17711.7012\n",
            "Epoch 4/150\n",
            "137/137 [==============================] - 95s 697ms/step - loss: 12602.2432 - mean_squared_error: 12602.2432 - val_loss: 17700.5664 - val_mean_squared_error: 17700.5664\n",
            "Epoch 5/150\n",
            "137/137 [==============================] - 95s 697ms/step - loss: 12589.8213 - mean_squared_error: 12589.8213 - val_loss: 17689.3770 - val_mean_squared_error: 17689.3770\n",
            "Epoch 6/150\n",
            "137/137 [==============================] - 95s 696ms/step - loss: 12577.8350 - mean_squared_error: 12577.8350 - val_loss: 17678.2207 - val_mean_squared_error: 17678.2207\n",
            "Epoch 7/150\n",
            "137/137 [==============================] - 95s 697ms/step - loss: 12566.0469 - mean_squared_error: 12566.0469 - val_loss: 17667.0547 - val_mean_squared_error: 17667.0547\n",
            "Epoch 8/150\n",
            "137/137 [==============================] - 95s 697ms/step - loss: 12554.3857 - mean_squared_error: 12554.3857 - val_loss: 17655.9570 - val_mean_squared_error: 17655.9570\n",
            "Epoch 9/150\n",
            "137/137 [==============================] - 96s 699ms/step - loss: 12542.7666 - mean_squared_error: 12542.7666 - val_loss: 17644.9766 - val_mean_squared_error: 17644.9766\n",
            "Epoch 10/150\n",
            "137/137 [==============================] - 95s 697ms/step - loss: 12531.3008 - mean_squared_error: 12531.3008 - val_loss: 17634.0781 - val_mean_squared_error: 17634.0781\n",
            "Epoch 11/150\n",
            "137/137 [==============================] - 96s 698ms/step - loss: 12519.7783 - mean_squared_error: 12519.7783 - val_loss: 17623.1055 - val_mean_squared_error: 17623.1055\n",
            "Epoch 12/150\n",
            "137/137 [==============================] - 96s 701ms/step - loss: 12508.3555 - mean_squared_error: 12508.3555 - val_loss: 17612.2852 - val_mean_squared_error: 17612.2852\n",
            "Epoch 13/150\n",
            "137/137 [==============================] - 96s 700ms/step - loss: 12497.0215 - mean_squared_error: 12497.0215 - val_loss: 17601.4590 - val_mean_squared_error: 17601.4590\n",
            "Epoch 14/150\n",
            "137/137 [==============================] - 96s 701ms/step - loss: 12485.6816 - mean_squared_error: 12485.6816 - val_loss: 17590.8301 - val_mean_squared_error: 17590.8301\n",
            "Epoch 15/150\n",
            "137/137 [==============================] - 96s 699ms/step - loss: 12474.3984 - mean_squared_error: 12474.3984 - val_loss: 17580.0234 - val_mean_squared_error: 17580.0234\n",
            "Epoch 16/150\n",
            "137/137 [==============================] - 96s 698ms/step - loss: 12463.2256 - mean_squared_error: 12463.2256 - val_loss: 17569.4160 - val_mean_squared_error: 17569.4160\n",
            "Epoch 17/150\n",
            "137/137 [==============================] - 96s 700ms/step - loss: 12452.0693 - mean_squared_error: 12452.0693 - val_loss: 17559.0039 - val_mean_squared_error: 17559.0039\n",
            "Epoch 18/150\n",
            "137/137 [==============================] - 96s 698ms/step - loss: 12440.9951 - mean_squared_error: 12440.9951 - val_loss: 17548.1934 - val_mean_squared_error: 17548.1934\n",
            "Epoch 19/150\n",
            "137/137 [==============================] - 96s 698ms/step - loss: 12429.9277 - mean_squared_error: 12429.9277 - val_loss: 17537.8457 - val_mean_squared_error: 17537.8457\n",
            "Epoch 20/150\n",
            "137/137 [==============================] - 96s 699ms/step - loss: 12418.9941 - mean_squared_error: 12418.9941 - val_loss: 17527.3184 - val_mean_squared_error: 17527.3184\n",
            "Epoch 21/150\n",
            "137/137 [==============================] - 96s 699ms/step - loss: 12408.1055 - mean_squared_error: 12408.1055 - val_loss: 17517.0078 - val_mean_squared_error: 17517.0078\n",
            "Epoch 22/150\n",
            "137/137 [==============================] - 96s 699ms/step - loss: 12397.2178 - mean_squared_error: 12397.2178 - val_loss: 17506.6914 - val_mean_squared_error: 17506.6914\n",
            "Epoch 23/150\n",
            "137/137 [==============================] - 96s 699ms/step - loss: 12386.3662 - mean_squared_error: 12386.3662 - val_loss: 17496.3516 - val_mean_squared_error: 17496.3516\n",
            "Epoch 24/150\n",
            "137/137 [==============================] - 102s 742ms/step - loss: 12375.5146 - mean_squared_error: 12375.5146 - val_loss: 17486.1523 - val_mean_squared_error: 17486.1523\n",
            "Epoch 25/150\n",
            "137/137 [==============================] - 98s 713ms/step - loss: 12364.7490 - mean_squared_error: 12364.7490 - val_loss: 17475.8066 - val_mean_squared_error: 17475.8066\n",
            "Epoch 26/150\n",
            "137/137 [==============================] - 96s 702ms/step - loss: 12354.0029 - mean_squared_error: 12354.0029 - val_loss: 17465.6387 - val_mean_squared_error: 17465.6387\n",
            "Epoch 27/150\n",
            "137/137 [==============================] - 100s 731ms/step - loss: 12343.3213 - mean_squared_error: 12343.3213 - val_loss: 17455.4492 - val_mean_squared_error: 17455.4492\n",
            "Epoch 28/150\n",
            "137/137 [==============================] - 96s 700ms/step - loss: 12332.6514 - mean_squared_error: 12332.6514 - val_loss: 17445.4570 - val_mean_squared_error: 17445.4570\n",
            "Epoch 29/150\n",
            "137/137 [==============================] - 98s 714ms/step - loss: 12322.0215 - mean_squared_error: 12322.0215 - val_loss: 17435.3047 - val_mean_squared_error: 17435.3047\n",
            "Epoch 30/150\n",
            "137/137 [==============================] - 97s 708ms/step - loss: 12311.4473 - mean_squared_error: 12311.4473 - val_loss: 17425.1621 - val_mean_squared_error: 17425.1621\n",
            "Epoch 31/150\n",
            "137/137 [==============================] - 96s 699ms/step - loss: 12300.8799 - mean_squared_error: 12300.8799 - val_loss: 17415.2129 - val_mean_squared_error: 17415.2129\n",
            "Epoch 32/150\n",
            "137/137 [==============================] - 96s 702ms/step - loss: 12290.3438 - mean_squared_error: 12290.3438 - val_loss: 17405.3516 - val_mean_squared_error: 17405.3516\n",
            "Epoch 33/150\n",
            "137/137 [==============================] - 95s 692ms/step - loss: 12279.8682 - mean_squared_error: 12279.8682 - val_loss: 17395.2500 - val_mean_squared_error: 17395.2500\n",
            "Epoch 34/150\n",
            "137/137 [==============================] - 96s 700ms/step - loss: 12269.4346 - mean_squared_error: 12269.4346 - val_loss: 17385.3633 - val_mean_squared_error: 17385.3633\n",
            "Epoch 35/150\n",
            "137/137 [==============================] - 96s 703ms/step - loss: 12259.0566 - mean_squared_error: 12259.0566 - val_loss: 17375.5625 - val_mean_squared_error: 17375.5625\n",
            "Epoch 36/150\n",
            "137/137 [==============================] - 96s 701ms/step - loss: 12248.7246 - mean_squared_error: 12248.7246 - val_loss: 17365.7695 - val_mean_squared_error: 17365.7695\n",
            "Epoch 37/150\n",
            "137/137 [==============================] - 96s 700ms/step - loss: 12238.4316 - mean_squared_error: 12238.4316 - val_loss: 17356.0215 - val_mean_squared_error: 17356.0215\n",
            "Epoch 38/150\n",
            "137/137 [==============================] - 96s 700ms/step - loss: 12228.1875 - mean_squared_error: 12228.1875 - val_loss: 17346.2305 - val_mean_squared_error: 17346.2305\n",
            "Epoch 39/150\n",
            "137/137 [==============================] - 96s 699ms/step - loss: 12217.9658 - mean_squared_error: 12217.9658 - val_loss: 17336.7324 - val_mean_squared_error: 17336.7324\n",
            "Epoch 40/150\n",
            "137/137 [==============================] - 95s 697ms/step - loss: 12207.7988 - mean_squared_error: 12207.7988 - val_loss: 17327.0020 - val_mean_squared_error: 17327.0020\n",
            "Epoch 41/150\n",
            "137/137 [==============================] - 95s 697ms/step - loss: 12197.6738 - mean_squared_error: 12197.6738 - val_loss: 17317.3672 - val_mean_squared_error: 17317.3672\n",
            "Epoch 42/150\n",
            "137/137 [==============================] - 95s 697ms/step - loss: 12187.5732 - mean_squared_error: 12187.5732 - val_loss: 17307.8867 - val_mean_squared_error: 17307.8867\n",
            "Epoch 43/150\n",
            "137/137 [==============================] - 96s 698ms/step - loss: 12177.5283 - mean_squared_error: 12177.5283 - val_loss: 17298.3027 - val_mean_squared_error: 17298.3027\n",
            "Epoch 44/150\n",
            "137/137 [==============================] - 95s 695ms/step - loss: 12167.5166 - mean_squared_error: 12167.5166 - val_loss: 17288.8457 - val_mean_squared_error: 17288.8457\n",
            "Epoch 45/150\n",
            "137/137 [==============================] - 96s 699ms/step - loss: 12157.5635 - mean_squared_error: 12157.5635 - val_loss: 17279.3906 - val_mean_squared_error: 17279.3906\n",
            "Epoch 46/150\n",
            "137/137 [==============================] - 95s 695ms/step - loss: 12147.6260 - mean_squared_error: 12147.6260 - val_loss: 17269.9961 - val_mean_squared_error: 17269.9961\n",
            "Epoch 47/150\n",
            "137/137 [==============================] - 95s 695ms/step - loss: 12137.7148 - mean_squared_error: 12137.7148 - val_loss: 17260.7383 - val_mean_squared_error: 17260.7383\n",
            "Epoch 48/150\n",
            "137/137 [==============================] - 95s 697ms/step - loss: 12127.8408 - mean_squared_error: 12127.8408 - val_loss: 17251.3066 - val_mean_squared_error: 17251.3066\n",
            "Epoch 49/150\n",
            "137/137 [==============================] - 96s 700ms/step - loss: 12118.0186 - mean_squared_error: 12118.0186 - val_loss: 17241.9766 - val_mean_squared_error: 17241.9766\n",
            "Epoch 50/150\n",
            "137/137 [==============================] - 96s 698ms/step - loss: 12108.2207 - mean_squared_error: 12108.2207 - val_loss: 17232.7871 - val_mean_squared_error: 17232.7871\n",
            "Epoch 51/150\n",
            "137/137 [==============================] - 95s 696ms/step - loss: 12098.4717 - mean_squared_error: 12098.4717 - val_loss: 17223.4766 - val_mean_squared_error: 17223.4766\n",
            "Epoch 52/150\n",
            "137/137 [==============================] - 95s 696ms/step - loss: 12088.7588 - mean_squared_error: 12088.7588 - val_loss: 17214.3223 - val_mean_squared_error: 17214.3223\n",
            "Epoch 53/150\n",
            "137/137 [==============================] - 95s 696ms/step - loss: 12079.0869 - mean_squared_error: 12079.0869 - val_loss: 17205.2402 - val_mean_squared_error: 17205.2402\n",
            "Epoch 54/150\n",
            "137/137 [==============================] - 95s 697ms/step - loss: 12069.4297 - mean_squared_error: 12069.4297 - val_loss: 17196.1113 - val_mean_squared_error: 17196.1113\n",
            "Epoch 55/150\n",
            "137/137 [==============================] - 95s 694ms/step - loss: 12059.8311 - mean_squared_error: 12059.8311 - val_loss: 17186.9297 - val_mean_squared_error: 17186.9297\n",
            "Epoch 56/150\n",
            "137/137 [==============================] - 96s 698ms/step - loss: 12050.2734 - mean_squared_error: 12050.2734 - val_loss: 17177.9473 - val_mean_squared_error: 17177.9473\n",
            "Epoch 57/150\n",
            "137/137 [==============================] - 96s 699ms/step - loss: 12040.7275 - mean_squared_error: 12040.7275 - val_loss: 17168.8809 - val_mean_squared_error: 17168.8809\n",
            "Epoch 58/150\n",
            "137/137 [==============================] - 96s 699ms/step - loss: 12031.2363 - mean_squared_error: 12031.2363 - val_loss: 17159.9590 - val_mean_squared_error: 17159.9590\n",
            "Epoch 59/150\n",
            "137/137 [==============================] - 96s 700ms/step - loss: 12021.7891 - mean_squared_error: 12021.7891 - val_loss: 17151.1016 - val_mean_squared_error: 17151.1016\n",
            "Epoch 60/150\n",
            "137/137 [==============================] - 95s 696ms/step - loss: 12012.4053 - mean_squared_error: 12012.4053 - val_loss: 17142.1211 - val_mean_squared_error: 17142.1211\n",
            "Epoch 61/150\n",
            "137/137 [==============================] - 96s 698ms/step - loss: 12002.9932 - mean_squared_error: 12002.9932 - val_loss: 17133.4590 - val_mean_squared_error: 17133.4590\n",
            "Epoch 62/150\n",
            "137/137 [==============================] - 96s 701ms/step - loss: 11993.6426 - mean_squared_error: 11993.6426 - val_loss: 17124.5117 - val_mean_squared_error: 17124.5117\n",
            "Epoch 63/150\n",
            "137/137 [==============================] - 96s 699ms/step - loss: 11984.3428 - mean_squared_error: 11984.3428 - val_loss: 17115.6797 - val_mean_squared_error: 17115.6797\n",
            "Epoch 64/150\n",
            "137/137 [==============================] - 96s 703ms/step - loss: 11975.1104 - mean_squared_error: 11975.1104 - val_loss: 17106.9199 - val_mean_squared_error: 17106.9199\n",
            "Epoch 65/150\n",
            "137/137 [==============================] - 96s 703ms/step - loss: 11965.9082 - mean_squared_error: 11965.9082 - val_loss: 17098.3105 - val_mean_squared_error: 17098.3105\n",
            "Epoch 66/150\n",
            "137/137 [==============================] - 95s 697ms/step - loss: 11956.7480 - mean_squared_error: 11956.7480 - val_loss: 17089.6309 - val_mean_squared_error: 17089.6309\n",
            "Epoch 67/150\n",
            "137/137 [==============================] - 96s 699ms/step - loss: 11947.6543 - mean_squared_error: 11947.6543 - val_loss: 17081.1172 - val_mean_squared_error: 17081.1172\n",
            "Epoch 68/150\n",
            "137/137 [==============================] - 96s 699ms/step - loss: 11938.6230 - mean_squared_error: 11938.6230 - val_loss: 17072.5820 - val_mean_squared_error: 17072.5820\n",
            "Epoch 69/150\n",
            "137/137 [==============================] - 96s 699ms/step - loss: 11929.6357 - mean_squared_error: 11929.6357 - val_loss: 17064.0898 - val_mean_squared_error: 17064.0898\n",
            "Epoch 70/150\n",
            "137/137 [==============================] - 96s 699ms/step - loss: 11920.6924 - mean_squared_error: 11920.6924 - val_loss: 17055.6699 - val_mean_squared_error: 17055.6699\n",
            "Epoch 71/150\n",
            "137/137 [==============================] - 95s 697ms/step - loss: 11911.7705 - mean_squared_error: 11911.7705 - val_loss: 17047.3086 - val_mean_squared_error: 17047.3086\n",
            "Epoch 72/150\n",
            "137/137 [==============================] - 96s 700ms/step - loss: 11902.8770 - mean_squared_error: 11902.8770 - val_loss: 17038.8691 - val_mean_squared_error: 17038.8691\n",
            "Epoch 73/150\n",
            "137/137 [==============================] - 96s 702ms/step - loss: 11894.0352 - mean_squared_error: 11894.0352 - val_loss: 17030.4238 - val_mean_squared_error: 17030.4238\n",
            "Epoch 74/150\n",
            "137/137 [==============================] - 96s 700ms/step - loss: 11885.2061 - mean_squared_error: 11885.2061 - val_loss: 17022.2070 - val_mean_squared_error: 17022.2070\n",
            "Epoch 75/150\n",
            "137/137 [==============================] - 96s 698ms/step - loss: 11876.4219 - mean_squared_error: 11876.4219 - val_loss: 17013.9883 - val_mean_squared_error: 17013.9883\n",
            "Epoch 76/150\n",
            "137/137 [==============================] - 96s 698ms/step - loss: 11867.6904 - mean_squared_error: 11867.6904 - val_loss: 17005.7012 - val_mean_squared_error: 17005.7012\n",
            "Epoch 77/150\n",
            "137/137 [==============================] - 95s 696ms/step - loss: 11858.9814 - mean_squared_error: 11858.9814 - val_loss: 16997.5137 - val_mean_squared_error: 16997.5137\n",
            "Epoch 78/150\n",
            "137/137 [==============================] - 95s 694ms/step - loss: 11850.3301 - mean_squared_error: 11850.3301 - val_loss: 16989.3613 - val_mean_squared_error: 16989.3613\n",
            "Epoch 79/150\n",
            "137/137 [==============================] - 95s 694ms/step - loss: 11841.7266 - mean_squared_error: 11841.7266 - val_loss: 16981.2559 - val_mean_squared_error: 16981.2559\n",
            "Epoch 80/150\n",
            "137/137 [==============================] - 95s 691ms/step - loss: 11833.1533 - mean_squared_error: 11833.1533 - val_loss: 16973.2266 - val_mean_squared_error: 16973.2266\n",
            "Epoch 81/150\n",
            "137/137 [==============================] - 94s 690ms/step - loss: 11824.5938 - mean_squared_error: 11824.5938 - val_loss: 16965.1582 - val_mean_squared_error: 16965.1582\n",
            "Epoch 82/150\n",
            "137/137 [==============================] - 95s 691ms/step - loss: 11816.0684 - mean_squared_error: 11816.0684 - val_loss: 16957.1465 - val_mean_squared_error: 16957.1465\n",
            "Epoch 83/150\n",
            "137/137 [==============================] - 94s 689ms/step - loss: 11807.6074 - mean_squared_error: 11807.6074 - val_loss: 16949.1602 - val_mean_squared_error: 16949.1602\n",
            "Epoch 84/150\n",
            "137/137 [==============================] - 95s 692ms/step - loss: 11799.1494 - mean_squared_error: 11799.1494 - val_loss: 16941.3125 - val_mean_squared_error: 16941.3125\n",
            "Epoch 85/150\n",
            "137/137 [==============================] - 95s 697ms/step - loss: 11790.7471 - mean_squared_error: 11790.7471 - val_loss: 16933.3262 - val_mean_squared_error: 16933.3262\n",
            "Epoch 86/150\n",
            "137/137 [==============================] - 96s 698ms/step - loss: 11782.3535 - mean_squared_error: 11782.3535 - val_loss: 16925.4766 - val_mean_squared_error: 16925.4766\n",
            "Epoch 87/150\n",
            "137/137 [==============================] - 96s 700ms/step - loss: 11774.5049 - mean_squared_error: 11774.5049 - val_loss: 16945.5879 - val_mean_squared_error: 16945.5879\n",
            "Epoch 88/150\n",
            "137/137 [==============================] - 96s 698ms/step - loss: 11765.6826 - mean_squared_error: 11765.6826 - val_loss: 16909.8027 - val_mean_squared_error: 16909.8027\n",
            "Epoch 89/150\n",
            "137/137 [==============================] - 95s 696ms/step - loss: 11759.8584 - mean_squared_error: 11759.8584 - val_loss: 16897.7617 - val_mean_squared_error: 16897.7617\n",
            "Epoch 90/150\n",
            "137/137 [==============================] - 94s 689ms/step - loss: 11612.3418 - mean_squared_error: 11612.3418 - val_loss: 16593.1191 - val_mean_squared_error: 16593.1191\n",
            "Epoch 91/150\n",
            "137/137 [==============================] - 97s 708ms/step - loss: 11162.8936 - mean_squared_error: 11162.8936 - val_loss: 15912.8203 - val_mean_squared_error: 15912.8203\n",
            "Epoch 92/150\n",
            "137/137 [==============================] - 96s 703ms/step - loss: 10788.2256 - mean_squared_error: 10788.2256 - val_loss: 15982.4951 - val_mean_squared_error: 15982.4951\n",
            "Epoch 93/150\n",
            "137/137 [==============================] - 95s 695ms/step - loss: 10634.7588 - mean_squared_error: 10634.7588 - val_loss: 15806.3711 - val_mean_squared_error: 15806.3711\n",
            "Epoch 94/150\n",
            "137/137 [==============================] - 95s 694ms/step - loss: 10555.2656 - mean_squared_error: 10555.2656 - val_loss: 15627.8350 - val_mean_squared_error: 15627.8350\n",
            "Epoch 95/150\n",
            "137/137 [==============================] - 95s 694ms/step - loss: 10492.4512 - mean_squared_error: 10492.4512 - val_loss: 15658.0986 - val_mean_squared_error: 15658.0986\n",
            "Epoch 96/150\n",
            "137/137 [==============================] - 95s 693ms/step - loss: 10491.9248 - mean_squared_error: 10491.9248 - val_loss: 15744.4414 - val_mean_squared_error: 15744.4414\n",
            "Epoch 97/150\n",
            "137/137 [==============================] - 95s 696ms/step - loss: 10343.4062 - mean_squared_error: 10343.4062 - val_loss: 15798.8809 - val_mean_squared_error: 15798.8809\n",
            "Epoch 98/150\n",
            "137/137 [==============================] - 95s 692ms/step - loss: 10426.9932 - mean_squared_error: 10426.9932 - val_loss: 15477.6016 - val_mean_squared_error: 15477.6016\n",
            "Epoch 99/150\n",
            "137/137 [==============================] - 95s 695ms/step - loss: 10402.1738 - mean_squared_error: 10402.1738 - val_loss: 15339.7227 - val_mean_squared_error: 15339.7227\n",
            "Epoch 100/150\n",
            "137/137 [==============================] - 96s 698ms/step - loss: 10359.6504 - mean_squared_error: 10359.6504 - val_loss: 15742.8066 - val_mean_squared_error: 15742.8066\n",
            "Epoch 101/150\n",
            "137/137 [==============================] - 96s 699ms/step - loss: 10255.0547 - mean_squared_error: 10255.0547 - val_loss: 15192.9111 - val_mean_squared_error: 15192.9111\n",
            "Epoch 102/150\n",
            "137/137 [==============================] - 96s 700ms/step - loss: 10354.5176 - mean_squared_error: 10354.5176 - val_loss: 15136.9590 - val_mean_squared_error: 15136.9590\n",
            "Epoch 103/150\n",
            "137/137 [==============================] - 96s 699ms/step - loss: 10313.6318 - mean_squared_error: 10313.6318 - val_loss: 15005.2588 - val_mean_squared_error: 15005.2588\n",
            "Epoch 104/150\n",
            "137/137 [==============================] - 95s 695ms/step - loss: 10343.3916 - mean_squared_error: 10343.3916 - val_loss: 15901.2803 - val_mean_squared_error: 15901.2803\n",
            "Epoch 105/150\n",
            "137/137 [==============================] - 95s 697ms/step - loss: 10382.9053 - mean_squared_error: 10382.9053 - val_loss: 15357.0244 - val_mean_squared_error: 15357.0244\n",
            "Epoch 106/150\n",
            "137/137 [==============================] - 96s 698ms/step - loss: 10304.2061 - mean_squared_error: 10304.2061 - val_loss: 14850.3574 - val_mean_squared_error: 14850.3574\n",
            "Epoch 107/150\n",
            "137/137 [==============================] - 95s 696ms/step - loss: 10300.4580 - mean_squared_error: 10300.4580 - val_loss: 15642.1631 - val_mean_squared_error: 15642.1631\n",
            "Epoch 108/150\n",
            "137/137 [==============================] - 95s 696ms/step - loss: 10348.1064 - mean_squared_error: 10348.1064 - val_loss: 15545.8809 - val_mean_squared_error: 15545.8809\n",
            "Epoch 109/150\n",
            "137/137 [==============================] - 95s 696ms/step - loss: 10313.6953 - mean_squared_error: 10313.6953 - val_loss: 14894.2842 - val_mean_squared_error: 14894.2842\n",
            "Epoch 110/150\n",
            "137/137 [==============================] - 95s 695ms/step - loss: 10292.7314 - mean_squared_error: 10292.7314 - val_loss: 14694.7676 - val_mean_squared_error: 14694.7676\n",
            "Epoch 111/150\n",
            "137/137 [==============================] - 95s 694ms/step - loss: 10282.3965 - mean_squared_error: 10282.3965 - val_loss: 14186.1367 - val_mean_squared_error: 14186.1367\n",
            "Epoch 112/150\n",
            "137/137 [==============================] - 95s 696ms/step - loss: 10368.0596 - mean_squared_error: 10368.0596 - val_loss: 14491.6201 - val_mean_squared_error: 14491.6201\n",
            "Epoch 113/150\n",
            "137/137 [==============================] - 95s 697ms/step - loss: 10338.3291 - mean_squared_error: 10338.3291 - val_loss: 14019.3184 - val_mean_squared_error: 14019.3184\n",
            "Epoch 114/150\n",
            "137/137 [==============================] - 95s 693ms/step - loss: 10180.8193 - mean_squared_error: 10180.8193 - val_loss: 13697.5010 - val_mean_squared_error: 13697.5010\n",
            "Epoch 115/150\n",
            "137/137 [==============================] - 95s 692ms/step - loss: 10187.7100 - mean_squared_error: 10187.7100 - val_loss: 14090.2119 - val_mean_squared_error: 14090.2119\n",
            "Epoch 116/150\n",
            "137/137 [==============================] - 95s 691ms/step - loss: 10433.8203 - mean_squared_error: 10433.8203 - val_loss: 14982.8945 - val_mean_squared_error: 14982.8945\n",
            "Epoch 117/150\n",
            "137/137 [==============================] - 95s 691ms/step - loss: 10228.6982 - mean_squared_error: 10228.6982 - val_loss: 14787.0381 - val_mean_squared_error: 14787.0381\n",
            "Epoch 118/150\n",
            "137/137 [==============================] - 94s 688ms/step - loss: 10252.0713 - mean_squared_error: 10252.0713 - val_loss: 15164.0879 - val_mean_squared_error: 15164.0879\n",
            "Epoch 119/150\n",
            "137/137 [==============================] - 96s 698ms/step - loss: 10138.9004 - mean_squared_error: 10138.9004 - val_loss: 15229.0371 - val_mean_squared_error: 15229.0371\n",
            "Epoch 120/150\n",
            "137/137 [==============================] - 95s 692ms/step - loss: 10231.9541 - mean_squared_error: 10231.9541 - val_loss: 15008.7021 - val_mean_squared_error: 15008.7021\n",
            "Epoch 121/150\n",
            "137/137 [==============================] - 95s 695ms/step - loss: 10146.9990 - mean_squared_error: 10146.9990 - val_loss: 14794.3525 - val_mean_squared_error: 14794.3525\n",
            "Epoch 122/150\n",
            "137/137 [==============================] - 95s 693ms/step - loss: 10274.1611 - mean_squared_error: 10274.1611 - val_loss: 15759.4434 - val_mean_squared_error: 15759.4434\n",
            "Epoch 123/150\n",
            "137/137 [==============================] - 96s 699ms/step - loss: 10289.8008 - mean_squared_error: 10289.8008 - val_loss: 15503.9531 - val_mean_squared_error: 15503.9531\n",
            "Epoch 124/150\n",
            "137/137 [==============================] - 97s 710ms/step - loss: 10217.4678 - mean_squared_error: 10217.4678 - val_loss: 15472.3418 - val_mean_squared_error: 15472.3418\n",
            "Epoch 125/150\n",
            "137/137 [==============================] - 95s 691ms/step - loss: 10154.5537 - mean_squared_error: 10154.5537 - val_loss: 15493.3789 - val_mean_squared_error: 15493.3789\n",
            "Epoch 126/150\n",
            "137/137 [==============================] - 95s 691ms/step - loss: 10231.9072 - mean_squared_error: 10231.9072 - val_loss: 13455132.0000 - val_mean_squared_error: 13455132.0000\n",
            "Epoch 127/150\n",
            "137/137 [==============================] - 94s 689ms/step - loss: 10296.0137 - mean_squared_error: 10296.0137 - val_loss: 13206.9658 - val_mean_squared_error: 13206.9658\n",
            "Epoch 128/150\n",
            "137/137 [==============================] - 95s 691ms/step - loss: 10218.2158 - mean_squared_error: 10218.2158 - val_loss: 13628.6885 - val_mean_squared_error: 13628.6885\n",
            "Epoch 129/150\n",
            "137/137 [==============================] - 95s 694ms/step - loss: 10148.6846 - mean_squared_error: 10148.6846 - val_loss: 13859.4346 - val_mean_squared_error: 13859.4346\n",
            "Epoch 130/150\n",
            "137/137 [==============================] - 95s 695ms/step - loss: 9998.6650 - mean_squared_error: 9998.6650 - val_loss: 14159.3271 - val_mean_squared_error: 14159.3271\n",
            "Epoch 131/150\n",
            "137/137 [==============================] - 95s 695ms/step - loss: 10006.0664 - mean_squared_error: 10006.0664 - val_loss: 13951.7363 - val_mean_squared_error: 13951.7363\n",
            "Epoch 132/150\n",
            "137/137 [==============================] - 95s 696ms/step - loss: 9986.0488 - mean_squared_error: 9986.0488 - val_loss: 13958.7305 - val_mean_squared_error: 13958.7305\n",
            "Epoch 133/150\n",
            "137/137 [==============================] - 95s 693ms/step - loss: 10072.3838 - mean_squared_error: 10072.3838 - val_loss: 14010.1709 - val_mean_squared_error: 14010.1709\n",
            "Epoch 134/150\n",
            "137/137 [==============================] - 95s 692ms/step - loss: 10121.7158 - mean_squared_error: 10121.7158 - val_loss: 14377.9053 - val_mean_squared_error: 14377.9053\n",
            "Epoch 135/150\n",
            "137/137 [==============================] - 95s 693ms/step - loss: 10046.0850 - mean_squared_error: 10046.0850 - val_loss: 14379.9785 - val_mean_squared_error: 14379.9785\n",
            "Epoch 136/150\n",
            "137/137 [==============================] - 95s 692ms/step - loss: 10069.0605 - mean_squared_error: 10069.0605 - val_loss: 14038.1299 - val_mean_squared_error: 14038.1299\n",
            "Epoch 137/150\n",
            "137/137 [==============================] - 95s 692ms/step - loss: 9963.0498 - mean_squared_error: 9963.0498 - val_loss: 14466.2256 - val_mean_squared_error: 14466.2256\n",
            "Epoch 138/150\n",
            "137/137 [==============================] - 96s 703ms/step - loss: 10142.9775 - mean_squared_error: 10142.9775 - val_loss: 14723.7090 - val_mean_squared_error: 14723.7090\n",
            "Epoch 139/150\n",
            "137/137 [==============================] - 97s 707ms/step - loss: 10104.7480 - mean_squared_error: 10104.7480 - val_loss: 14629.8252 - val_mean_squared_error: 14629.8252\n",
            "Epoch 140/150\n",
            "137/137 [==============================] - 94s 687ms/step - loss: 9943.3496 - mean_squared_error: 9943.3496 - val_loss: 14863.2549 - val_mean_squared_error: 14863.2549\n",
            "Epoch 141/150\n",
            "137/137 [==============================] - 95s 693ms/step - loss: 10035.9375 - mean_squared_error: 10035.9375 - val_loss: 14911.3271 - val_mean_squared_error: 14911.3271\n",
            "Epoch 142/150\n",
            "137/137 [==============================] - 95s 695ms/step - loss: 10106.3867 - mean_squared_error: 10106.3867 - val_loss: 14486.7129 - val_mean_squared_error: 14486.7129\n",
            "Epoch 143/150\n",
            "137/137 [==============================] - 97s 709ms/step - loss: 10135.3193 - mean_squared_error: 10135.3193 - val_loss: 14680.2051 - val_mean_squared_error: 14680.2051\n",
            "Epoch 144/150\n",
            "137/137 [==============================] - 95s 693ms/step - loss: 10199.0879 - mean_squared_error: 10199.0879 - val_loss: 15690.7705 - val_mean_squared_error: 15690.7705\n",
            "Epoch 145/150\n",
            "137/137 [==============================] - 95s 693ms/step - loss: 9908.0195 - mean_squared_error: 9908.0195 - val_loss: 15126.4854 - val_mean_squared_error: 15126.4854\n",
            "Epoch 146/150\n",
            "137/137 [==============================] - 97s 707ms/step - loss: 10039.0273 - mean_squared_error: 10039.0273 - val_loss: 15316.9824 - val_mean_squared_error: 15316.9824\n",
            "Epoch 147/150\n",
            "137/137 [==============================] - 104s 760ms/step - loss: 10012.5947 - mean_squared_error: 10012.5947 - val_loss: 14918.1738 - val_mean_squared_error: 14918.1738\n",
            "Epoch 148/150\n",
            "137/137 [==============================] - 95s 694ms/step - loss: 9968.8545 - mean_squared_error: 9968.8545 - val_loss: 14568.5293 - val_mean_squared_error: 14568.5293\n",
            "Epoch 149/150\n",
            "137/137 [==============================] - 95s 691ms/step - loss: 9953.6113 - mean_squared_error: 9953.6113 - val_loss: 14523.4033 - val_mean_squared_error: 14523.4033\n",
            "Epoch 150/150\n",
            "137/137 [==============================] - 95s 696ms/step - loss: 9981.8701 - mean_squared_error: 9981.8701 - val_loss: 14303.8066 - val_mean_squared_error: 14303.8066\n"
          ]
        }
      ]
    },
    {
      "cell_type": "code",
      "metadata": {
        "colab": {
          "base_uri": "https://localhost:8080/"
        },
        "id": "wIaFl6_HCPR7",
        "outputId": "50801a95-e6f0-49e6-95cd-7104ed030a81"
      },
      "source": [
        "mse_test = mean_squared_error(testAttrX[\"eth_price\"],preds)\n",
        "mse_train = mean_squared_error(trainAttrX[\"eth_price\"],model.predict(trainImagesX))\n",
        "print(mse_test, mse_train) \n",
        "\n",
        "#10060.92655631016 59319.02088229264 (dropout=0.25, batch size = 16)\n",
        "#7246.9532777810455 19080.764081643996 (dropout=0.5, batch size = 16)\n",
        "#214779.142002418 7696.40690924029 (dropout=0.55, batch size = 16)\n",
        "#9962.678564979076 9151.075837143515 (dropout=0.6, batch size = 16)\n",
        "#821491618.3952924 529651068.9911889 (dropout=0.75, batch size = 16)"
      ],
      "execution_count": null,
      "outputs": [
        {
          "output_type": "stream",
          "name": "stdout",
          "text": [
            "14303.808223700582 9642.461026797859\n"
          ]
        }
      ]
    },
    {
      "cell_type": "code",
      "metadata": {
        "colab": {
          "base_uri": "https://localhost:8080/"
        },
        "id": "Z3thLSVSPydm",
        "outputId": "7d6afdb1-884a-4250-c4f8-65dc1302253e"
      },
      "source": [
        "mse = mean_squared_error(df2[\"eth_price\"],model.predict(images))\n",
        "mae = mean_absolute_error(df2[\"eth_price\"],model.predict(images))\n",
        "print(mse, mae)"
      ],
      "execution_count": null,
      "outputs": [
        {
          "output_type": "stream",
          "name": "stdout",
          "text": [
            "10808.196505868706 39.07358757561597\n"
          ]
        }
      ]
    },
    {
      "cell_type": "code",
      "metadata": {
        "colab": {
          "base_uri": "https://localhost:8080/",
          "height": 295
        },
        "id": "--Qp_ZUWPfVj",
        "outputId": "c1943a5f-fbb9-461f-84a4-1c3190f04dad"
      },
      "source": [
        "train_loss = history.history[\"loss\"]\n",
        "epochs = range(1,151)\n",
        "plt.plot(epochs, train_loss, 'g', label='Training loss')\n",
        "plt.title('Training loss')\n",
        "plt.xlabel('Epochs')\n",
        "plt.ylabel('Loss')\n",
        "plt.legend()\n",
        "plt.show()"
      ],
      "execution_count": null,
      "outputs": [
        {
          "output_type": "display_data",
          "data": {
            "image/png": "[encoded data removed]",
            "text/plain": [
              "<Figure size 432x288 with 1 Axes>"
            ]
          },
          "metadata": {
            "needs_background": "light"
          }
        }
      ]
    },
    {
      "cell_type": "code",
      "metadata": {
        "colab": {
          "base_uri": "https://localhost:8080/",
          "height": 281
        },
        "id": "Al8jalCXneUp",
        "outputId": "7db6bbef-55d9-4be8-b73c-fb2705a7d1a1"
      },
      "source": [
        "# plot for training data\n",
        "ax = plt.gca()\n",
        "ax.scatter(trainAttrX.index, trainAttrX[\"eth_price\"], color=\"b\", label='actual')\n",
        "ax.scatter(trainAttrX.index, model.predict(trainImagesX), color=\"r\", label='predicted')\n",
        "plt.title('Predicted and Actual Prices')\n",
        "plt.show()"
      ],
      "execution_count": null,
      "outputs": [
        {
          "output_type": "display_data",
          "data": {
            "image/png": "[encoded data removed]",
            "text/plain": [
              "<Figure size 432x288 with 1 Axes>"
            ]
          },
          "metadata": {
            "needs_background": "light"
          }
        }
      ]
    },
    {
      "cell_type": "code",
      "execution_count": null,
      "metadata": {},
      "outputs": [],
      "source": [
        "X = df[['num_sales', 'Smile', 'Female', 'Hot Lipstick','Pipe','Pilot Helmet',\n",
        "        'Big Shades','Straight Hair','Choker','Black Lipstick','Earring',\n",
        "        'Clown Eyes Blue','Tiara','Bandana','Peak Spike','Normal Beard Black',\n",
        "        'Horned Rim Glasses','Stringy Hair','Eye Patch','Do-rag','Chinstrap',\n",
        "        'Headband','3D Glasses','Beanie','Clown Hair Green','Clown Nose',\n",
        "        'Purple Lipstick','Pigtails','Frumpy Hair','Blue Eye Shadow',\n",
        "        'Silver Chain','Blonde Bob','Regular Shades','Wild White Hair',\n",
        "        'Messy Hair','Mole','Mustache','Crazy Hair','Nerd Glasses',\n",
        "        'Straight Hair Blonde','Front Beard','Mohawk Thin','Goat','Knitted Cap',\n",
        "        'Frown','Wild Blonde','Orange Side','Cap Forward','Cap','Handlebars',\n",
        "        'Eye Mask','Purple Hair','Muttonchops','Dark Hair','Wild Hair','Cigarette',\n",
        "        'Purple Eye Shadow','Hoodie','Clown Eyes Green','Pink With Hat','Small Shades',\n",
        "        'Medical Mask','Green Eye Shadow','Normal Beard','Half Shaved','Classic Shades',\n",
        "        'Shaved Head','Shadow Beard','Buck Teeth','Straight Hair Dark','Top Hat',\n",
        "        'Big Beard','Front Beard Dark','Mohawk Dark','Cowboy Hat','VR','Vampire Hair',\n",
        "        'Spots','Fedora','Tassle Hat','Luxurious Beard','Vape','Rosy Cheeks','Red Mohawk',\n",
        "        'Police Cap','Blonde Short','Gold Chain','Zombie','Welding Goggles','Ape','Alien']]\n",
        "y = df['eth_price']\n",
        "\n",
        "X_train, X_test, y_train, y_test= train_test_split(X, y, test_size= 0.3)\n",
        "\n",
        "regressor = LinearRegression()\n",
        "regressor.fit(X_train,  y_train) \n",
        "print(regressor.intercept_)    \n",
        "y_pred = regressor.predict(X_test)\n",
        "pred_out  = pd.DataFrame({'Actual':  y_test, 'Predicted': y_pred})\n",
        "pred_out\n",
        "\n",
        "pred_out1  = pred_out.head(20)\n",
        "pred_out1.plot(kind='bar',figsize=(16,10))\n",
        "plt.grid(which='major',  linestyle='-', linewidth='0.5',  color='black')\n",
        "plt.grid(which='minor',  linestyle=':', linewidth='0.5',  color='black')\n",
        "plt.show()\n",
        "\n",
        "print('Mean Absolute Error:', metrics.mean_absolute_error(y_test, y_pred))\n",
        "print('Mean Squared Error:', metrics.mean_squared_error(y_test, y_pred))\n",
        "print('Root Mean Squared Error:', np.sqrt(metrics.mean_squared_error(y_test, y_pred)))"
      ]
    },
    {
      "cell_type": "code",
      "metadata": {
        "id": "L3wEJsTFSO0E"
      },
      "source": [
        "z = list(range(1, 41))\n",
        "plt.plot(z,test_out1)\n",
        "plt.plot(z,pred_out1)\n",
        "plt.show\n",
        "print(pred_out)\n",
        "\n",
        "df = pd.read_csv('C:/Users/tobyl/Downloads/punks_cleaned - Copy.csv')\n",
        "df.plot(x='Days Apart', y='eth_price', style='o')  \n",
        "plt.title('Price with Days Apart')  \n",
        "plt.xlabel('Days Apart')  \n",
        "plt.ylabel('Price')  \n",
        "plt.show()\n",
        "x= df['Days Apart']\n",
        "print(x)\n",
        "\n",
        "from sklearn.preprocessing import StandardScaler\n",
        "\n",
        "scale= StandardScaler()\n",
        "X = df[['Days Apart']]\n",
        "y = df['eth_price']\n",
        "\n",
        "\n",
        "\n",
        "\n",
        "X_train, X_test, y_train, y_test = train_test_split(X, y, test_size=0.3, random_state=0)\n",
        "\n",
        "regressor = LinearRegression()  \n",
        "regressor.fit(X_train, y_train)\n",
        "\n",
        "y_pred = regressor.predict(X_test)\n",
        "\n",
        "Re = pd.DataFrame({'Actual': y_test, 'Predicted': y_pred})\n",
        "Re\n",
        "\n",
        "print(X_train)\n",
        "\n",
        "Re1 = Re.head(25)\n",
        "Re1.plot(kind='bar',figsize=(16,10))\n",
        "plt.grid(which='major', linestyle='-', linewidth='0.5', color='green')\n",
        "plt.grid(which='minor', linestyle=':', linewidth='0.5', color='black')\n",
        "plt.show()\n",
        "\n",
        "plt.scatter(X_test, y_test,  color='gray')\n",
        "plt.plot(X_test, y_pred, color='red', linewidth=2)\n",
        "plt.title('Price with Days Apart')  \n",
        "plt.xlabel('Days Apart')  \n",
        "plt.ylabel('Price')  \n",
        "plt.show()\n",
        "print('Mean Absolute Error:', metrics.mean_absolute_error(y_test, y_pred))  \n",
        "print('Mean Squared Error:', metrics.mean_squared_error(y_test, y_pred))  \n",
        "print('Root Mean Squared Error:', np.sqrt(metrics.mean_squared_error(y_test, y_pred)))\n",
        "\n"
      ],
      "execution_count": null,
      "outputs": []
    },
    {
      "cell_type": "markdown",
      "metadata": {
        "id": "CYXJ1gbUchoP"
      },
      "source": [
        "## Pre train CNN\n"
      ]
    },
    {
      "cell_type": "code",
      "execution_count": null,
      "metadata": {},
      "outputs": [],
      "source": [
        "X = []\n",
        "y = []\n",
        "\n",
        "dd = {}\n",
        "count = 0\n",
        "with open('punks_cleaned.csv') as src_file:\n",
        "  src_reader = csv.reader(src_file, delimiter=',')\n",
        "  for row in src_reader:\n",
        "    if count == 0:\n",
        "      count += 1\n",
        "      continue\n",
        "    price = float(row[6])\n",
        "    d = {int(row[1]): price}\n",
        "    dd.update(d)\n",
        "\n",
        "\n",
        "for file in os.listdir('/content/drive/MyDrive/test'):\n",
        "  if file.endswith('.jpg'):\n",
        "    pID = int(file.split('.')[0])\n",
        "    test_image = file\n",
        "    img = Image.open(test_image)\n",
        "    numpydata = asarray(img)\n",
        "    X.append(numpydata)\n",
        "    y.append(dd[pID])\n",
        "    print(count)\n",
        "    count += 1\n",
        "\n",
        "\n",
        "X = np.array(X)\n",
        "y = np.array(y)\n",
        "\n",
        "# define model\n",
        "model = Sequential()\n",
        "pretrained_model= tf.keras.applications.ResNet50(include_top=False,\n",
        "                   input_shape=(336,336,3),\n",
        "                   pooling='avg',classes=9,\n",
        "                   weights='imagenet')\n",
        "for layer in pretrained_model.layers:\n",
        "        layer.trainable=False\n",
        "\n",
        "model.add(pretrained_model)\n",
        "model.add(Flatten())\n",
        "model.add(Dense(512, activation='relu'))\n",
        "model.add(Dense(1, activation='linear'))\n",
        "model.summary()\n",
        "\n",
        "model.compile(optimizer=Adam(learning_rate=0.0001),loss='mean_squared_error', metrics=['MeanSquaredError'])\n",
        "\n",
        "checkpoint_path = \"/content/drive/MyDrive/Punks_linear/cp.ckpt\"\n",
        "checkpoint_dir = os.path.dirname(checkpoint_path)\n",
        "\n",
        "cp_callback = tf.keras.callbacks.ModelCheckpoint(filepath=checkpoint_path,\n",
        "                                                 save_weights_only=True,\n",
        "                                                 verbose=1)\n",
        "model.load_weights(checkpoint_path)\n",
        "actl = []\n",
        "predarr = []\n",
        "count = []\n",
        "counter = 0\n",
        "for file in os.listdir('/content/drive/MyDrive/test'):\n",
        "  if file.endswith('.jpg'):\n",
        "    test_image = file\n",
        "    name = int(file.split('.')[0])\n",
        "  image=cv2.imread(test_image)\n",
        "  image_resized= cv2.resize(image, (336,336))\n",
        "  image=np.expand_dims(image_resized,axis=0)\n",
        "  pred=model.predict(image)\n",
        "  actl.append(dd[name])\n",
        "  predarr.append(pred[0][0])\n",
        "  count.append(counter)\n",
        "  counter += 1\n",
        "  print(counter)\n",
        "\n",
        "plt.xlabel(\"Number of Crypto Punks\") \n",
        "plt.ylabel(\"Price in Eth\")\n",
        "plt.scatter(count,actl,color='red', label=\"Actual\")\n",
        "plt.scatter(count,predarr,color='blue', label=\"Predicted\")\n",
        "plt.legend()\n",
        "plt.show()"
      ]
    },
    {
      "cell_type": "markdown",
      "metadata": {
        "id": "GPAubAwFrRbV"
      },
      "source": [
        "## LR"
      ]
    },
    {
      "cell_type": "code",
      "metadata": {
        "colab": {
          "base_uri": "https://localhost:8080/"
        },
        "id": "HIfi6iz1qIXX",
        "outputId": "0b6ff7d8-b50d-492d-db08-0d5f184e487d"
      },
      "source": [
        "from sklearn.linear_model import LinearRegression\n",
        "\n",
        "mse_train = []\n",
        "mse_test = []\n",
        "\n",
        "for train_index, test_index in kf.split(x):\n",
        "    X_train, X_test = x[train_index], x[test_index]\n",
        "    y_train, y_test = y[train_index], y[test_index]\n",
        "    mod = LinearRegression()\n",
        "    mod.fit(X_train, y_train)\n",
        "    y_pred=mod.predict(X_train)\n",
        "    score = metrics.mean_squared_error(y_train, y_pred)\n",
        "    mse_train.append(score)\n",
        "    y_pred_test=mod.predict(X_test)\n",
        "    score = metrics.mean_squared_error(y_test, y_pred_test)\n",
        "    mse_test.append(score)\n",
        "\n",
        "    \n",
        "print('Avg Training Accuracy:{}'.format(sum(mse_train)/k))\n",
        "print('Avg Test Accuracy:{}'.format(sum(mse_test)/k))"
      ],
      "execution_count": null,
      "outputs": [
        {
          "output_type": "stream",
          "name": "stdout",
          "text": [
            "Avg Training Accuracy:1203.325509135581\n",
            "Avg Test Accuracy:1450.1616735418318\n"
          ]
        }
      ]
    }
  ]
}